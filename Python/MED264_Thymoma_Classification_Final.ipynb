{
 "cells": [
  {
   "cell_type": "markdown",
   "id": "de31071a-6789-42b9-a3f5-7cd53ac09896",
   "metadata": {},
   "source": [
    "##### Authors: Mihika Sonalkar and Sam Reynolds\n",
    "##### Date: 11/20/24\n",
    "##### Purpose: Creating the supervised thymoma classification models."
   ]
  },
  {
   "cell_type": "markdown",
   "id": "299f57d1-f9af-44f8-a9c8-735a789d6bc4",
   "metadata": {},
   "source": [
    "# Importing libraries."
   ]
  },
  {
   "cell_type": "code",
   "execution_count": 1,
   "id": "ee565665-36e1-4a15-b8a7-d7f26fe10591",
   "metadata": {},
   "outputs": [],
   "source": [
    "import datetime\n",
    "import random\n",
    "import math\n",
    "import autograd.numpy as np\n",
    "from autograd import grad\n",
    "import sklearn\n",
    "from sklearn.preprocessing import OneHotEncoder\n",
    "from sklearn.model_selection import train_test_split\n",
    "from sklearn.linear_model import LogisticRegression\n",
    "from sklearn.feature_extraction.text import CountVectorizer\n",
    "from sklearn.feature_extraction.text import TfidfVectorizer\n",
    "from sklearn.feature_selection import SelectKBest\n",
    "from sklearn.feature_selection import chi2\n",
    "from sklearn.model_selection import GridSearchCV\n",
    "from sklearn.metrics import RocCurveDisplay\n",
    "from sklearn.cluster import KMeans\n",
    "from sklearn.metrics import silhouette_score\n",
    "from sklearn.metrics import rand_score\n",
    "from sklearn.metrics import ConfusionMatrixDisplay\n",
    "from sklearn.model_selection import StratifiedKFold\n",
    "from sklearn.neighbors import KNeighborsClassifier\n",
    "import pandas as pd\n",
    "import scipy.sparse as sp\n",
    "import matplotlib.pyplot as plt\n",
    "from collections import Counter\n",
    "import seaborn as sns\n",
    "from statistics import mean, stdev\n",
    "%matplotlib inline"
   ]
  },
  {
   "cell_type": "markdown",
   "id": "6ea6ce28-d072-40e1-80ea-d355aba304a7",
   "metadata": {},
   "source": [
    "# Loading data."
   ]
  },
  {
   "cell_type": "code",
   "execution_count": 2,
   "id": "6653ff46-3ab1-4c5e-aba5-ff357b81925e",
   "metadata": {},
   "outputs": [],
   "source": [
    "betas_file_path = \"/Users/samuelreynolds/Desktop/Christensen Lab/Thymoma Classification/Data/combinedBetas_batch_corrected.csv\"\n",
    "pheno_file_path = \"/Users/samuelreynolds/Desktop/Christensen Lab/Thymoma Classification/Data/combinedPheno.csv\"\n",
    "\n",
    "combinedBetas_batch_corrected = pd.read_csv(betas_file_path)\n",
    "combinedPheno = pd.read_csv(pheno_file_path)\n",
    "\n",
    "\n",
    "combinedBetas_batch_corrected = combinedBetas_batch_corrected.rename(index=combinedBetas_batch_corrected[\"Unnamed: 0\"])\n",
    "del combinedBetas_batch_corrected[\"Unnamed: 0\"]\n",
    "\n",
    "combinedPheno = combinedPheno.rename(index=combinedPheno[\"Unnamed: 0\"])\n",
    "del combinedPheno[\"Unnamed: 0\"]\n",
    "\n",
    "# Define a mapping of elements to be replaced\n",
    "replace_dict = {'micronodular': 'M', 'Thymic carcinoma': 'TC'}\n",
    "\n",
    "# Use the .replace() method to replace elements\n",
    "combinedPheno['CancerSubtype'] = combinedPheno['CancerSubtype'].replace(replace_dict)\n",
    "\n",
    "\n",
    "#print(\"Transposing data.\")\n",
    "combinedBetas_batch_corrected = combinedBetas_batch_corrected.transpose()\n"
   ]
  },
  {
   "cell_type": "code",
   "execution_count": 3,
   "id": "c010f129-2f5c-4cd5-900f-48a1e4ef048d",
   "metadata": {},
   "outputs": [
    {
     "name": "stdout",
     "output_type": "stream",
     "text": [
      "True\n"
     ]
    }
   ],
   "source": [
    "# Double checking the rows match and that the beta values are paired with their pheno data\n",
    "rowNames = list(combinedBetas_batch_corrected.index)\n",
    "rowNames2 = list(combinedPheno.index)\n",
    "\n",
    "print (rowNames == rowNames2)"
   ]
  },
  {
   "cell_type": "code",
   "execution_count": 5,
   "id": "240c41b8-3f1b-410d-bb34-c813d5bf1542",
   "metadata": {},
   "outputs": [],
   "source": [
    "combinedPheno_new = combinedPheno[combinedPheno['CancerSubtype'] != 'normal thymus']"
   ]
  },
  {
   "cell_type": "code",
   "execution_count": 6,
   "id": "9c08eade-7006-48ad-91a7-673464b8100d",
   "metadata": {},
   "outputs": [
    {
     "name": "stderr",
     "output_type": "stream",
     "text": [
      "/var/folders/bb/sr6jv42x3zl3mz0gpq05mhwr0000gn/T/ipykernel_19246/2780870193.py:1: FutureWarning: A value is trying to be set on a copy of a DataFrame or Series through chained assignment using an inplace method.\n",
      "The behavior will change in pandas 3.0. This inplace method will never work because the intermediate object on which we are setting values always behaves as a copy.\n",
      "\n",
      "For example, when doing 'df[col].method(value, inplace=True)', try using 'df.method({col: value}, inplace=True)' or df[col] = df[col].method(value) instead, to perform the operation inplace on the original object.\n",
      "\n",
      "\n",
      "  combinedPheno_new[\"CancerSubtype\"].replace('atypical A', 'A', inplace=True)\n",
      "/var/folders/bb/sr6jv42x3zl3mz0gpq05mhwr0000gn/T/ipykernel_19246/2780870193.py:1: SettingWithCopyWarning: \n",
      "A value is trying to be set on a copy of a slice from a DataFrame\n",
      "\n",
      "See the caveats in the documentation: https://pandas.pydata.org/pandas-docs/stable/user_guide/indexing.html#returning-a-view-versus-a-copy\n",
      "  combinedPheno_new[\"CancerSubtype\"].replace('atypical A', 'A', inplace=True)\n"
     ]
    }
   ],
   "source": [
    "combinedPheno_new[\"CancerSubtype\"].replace('atypical A', 'A', inplace=True)"
   ]
  },
  {
   "cell_type": "code",
   "execution_count": 10,
   "id": "726793a5-a1d8-42ac-8db6-9d9da192d7ef",
   "metadata": {},
   "outputs": [],
   "source": [
    "combinedPhenoBetas_new = combinedPheno_new.join(combinedBetas_batch_corrected)"
   ]
  },
  {
   "cell_type": "markdown",
   "id": "897ce1b3-9c9b-441e-9741-2fdca375fae3",
   "metadata": {},
   "source": [
    "# Building the models."
   ]
  },
  {
   "cell_type": "markdown",
   "id": "8c34df79-0023-48a9-9317-af1ee1a42a79",
   "metadata": {},
   "source": [
    "#### Support vector classification."
   ]
  },
  {
   "cell_type": "code",
   "execution_count": 160,
   "id": "ef9d8364-dc39-4fc6-a3a4-b0cd1930dafe",
   "metadata": {},
   "outputs": [],
   "source": [
    "#Support Vector Classification\n",
    "from sklearn.pipeline import make_pipeline\n",
    "from sklearn.preprocessing import StandardScaler\n",
    "from sklearn.svm import SVC\n",
    "from sklearn.decomposition import PCA\n",
    "from sklearn.model_selection import StratifiedKFold\n",
    "from sklearn.metrics import accuracy_score, precision_score, f1_score, recall_score, roc_auc_score\n",
    "\n",
    "def runSVC(X,Y):        \n",
    "    \"\"\"\n",
    "    # Initialize k-fold cross-validation\n",
    "    kf = StratifiedKFold(n_splits=5, shuffle=True, random_state=42)\n",
    "    \"\"\"\n",
    "    # Initialize the classifier\n",
    "    svc = SVC(kernel='linear', probability=True, random_state=42)\n",
    "    \n",
    "    # Performance metrics\n",
    "    accuracies_train = []\n",
    "    precisions_train = []\n",
    "    f1_scores_train = []\n",
    "    recalls_train = []\n",
    "    aucs_train = []\n",
    "    \n",
    "    accuracies = []\n",
    "    precisions = []\n",
    "    f1_scores = []\n",
    "    recalls = []\n",
    "    aucs = []\n",
    "\n",
    "    # Split into training and testing sets\n",
    "    X_train, X_test, Y_train, Y_test = train_test_split(X, Y, test_size=0.2, random_state=42)\n",
    "\n",
    "    # Fit the model\n",
    "    svc.fit(X_train, Y_train)\n",
    "        \n",
    "    # Predict probabilities and labels\n",
    "    Y_pred_train = svc.predict(X_train)\n",
    "    Y_pred = svc.predict(X_test)\n",
    "    Y_proba_train = svc.predict(X_train)\n",
    "    Y_proba = svc.predict_proba(X_test)\n",
    "        \n",
    "    #Compute training metrics\n",
    "    accuracies_train.append(accuracy_score(Y_train, Y_pred_train))\n",
    "    precisions_train.append(precision_score(Y_train, Y_pred_train, average='weighted'))\n",
    "    f1_scores_train.append(f1_score(Y_train, Y_pred_train, average='weighted'))\n",
    "    recalls_train.append(recall_score(Y_train, Y_pred_train, average='weighted'))\n",
    "    #aucs_train.append(roc_auc_score(Y_train, Y_proba_train, multi_class='ovr'))\n",
    "        \n",
    "    # Compute metrics\n",
    "    accuracies.append(accuracy_score(Y_test, Y_pred))\n",
    "    precisions.append(precision_score(Y_test, Y_pred, average='weighted'))\n",
    "    f1_scores.append(f1_score(Y_test, Y_pred, average='weighted'))\n",
    "    recalls.append(recall_score(Y_test, Y_pred, average='weighted'))\n",
    "        \n",
    "    # For multi-class AUC, use 'ovr' (One-vs-Rest) strategy\n",
    "    aucs.append(roc_auc_score(Y_test, Y_proba, multi_class='ovr'))\n",
    "    \n",
    "    \"\"\"\n",
    "    # Perform k-fold cross-validation\n",
    "    for train_index, test_index in kf.split(X, Y):\n",
    "        X_train, X_test = X[train_index], X[test_index]\n",
    "        Y_train, Y_test = Y[train_index], Y[test_index]\n",
    "        \n",
    "        # Fit the model\n",
    "        svc.fit(X_train, Y_train)\n",
    "        \n",
    "        # Predict probabilities and labels\n",
    "        Y_pred_train = svc.predict(X_train)\n",
    "        Y_pred = svc.predict(X_test)\n",
    "        Y_proba_train = svc.predict(X_train)\n",
    "        Y_proba = svc.predict_proba(X_test)\n",
    "    \n",
    "        #Compute training metrics\n",
    "        accuracies_train.append(accuracy_score(Y_train, Y_pred_train))\n",
    "        precisions_train.append(precision_score(Y_train, Y_pred_train, average='weighted'))\n",
    "        f1_scores_train.append(f1_score(Y_train, Y_pred_train, average='weighted'))\n",
    "        recalls_train.append(recall_score(Y_train, Y_pred_train, average='weighted'))\n",
    "        #aucs_train.append(roc_auc_score(Y_train, Y_proba_train, multi_class='ovr'))\n",
    "        \n",
    "        # Compute test metrics\n",
    "        accuracies.append(accuracy_score(Y_test, Y_pred))\n",
    "        precisions.append(precision_score(Y_test, Y_pred, average='weighted'))\n",
    "        f1_scores.append(f1_score(Y_test, Y_pred, average='weighted'))\n",
    "        recalls.append(recall_score(Y_test, Y_pred, average='weighted'))\n",
    "        aucs.append(roc_auc_score(Y_test, Y_proba, multi_class='ovr'))\n",
    "    \"\"\"\n",
    "    \n",
    "    #Calculate train metrics\n",
    "    mean_accuracy_train = np.mean(accuracies_train)\n",
    "    mean_precision_train = np.mean(precisions_train)\n",
    "    mean_f1_train = np.mean(f1_scores_train)\n",
    "    mean_recall_train = np.mean(recalls_train)\n",
    "    mean_auc_train = np.mean(aucs_train)\n",
    "        \n",
    "    # Calculate mean metrics\n",
    "    mean_accuracy = np.mean(accuracies)\n",
    "    mean_precision = np.mean(precisions)\n",
    "    mean_f1 = np.mean(f1_scores)\n",
    "    mean_recall = np.mean(recalls)\n",
    "    mean_auc = np.mean(aucs)\n",
    "    \n",
    "    #Display the results\n",
    "    print(f\"Mean Train Accuracy: {mean_accuracy_train}\")\n",
    "    print(f\"Mean Train Precision: {mean_precision_train}\")\n",
    "    print(f\"Mean Train F1 Score: {mean_f1_train}\")\n",
    "    print(f\"Mean Train Recall: {mean_recall_train}\")\n",
    "    #print(f\"Mean Train AUC: {mean_auc_train}\")\n",
    "    \n",
    "    # Display the results\n",
    "    print()\n",
    "    print(f\"Mean Test Accuracy: {mean_accuracy}\")\n",
    "    print(f\"Mean Test Precision: {mean_precision}\")\n",
    "    print(f\"Mean Test F1 Score: {mean_f1}\")\n",
    "    print(f\"Mean Test Recall: {mean_recall}\")\n",
    "    print(f\"Mean Test AUC: {mean_auc}\")\n",
    "\n",
    "    return(mean_accuracy, Y_pred)"
   ]
  },
  {
   "cell_type": "markdown",
   "id": "6d7058c2-d905-4d6c-b790-d84720c2f236",
   "metadata": {},
   "source": [
    "#### Extreme gradient boosting classification."
   ]
  },
  {
   "cell_type": "code",
   "execution_count": 156,
   "id": "ece76f4d-b880-42e7-85f4-074a17c0727c",
   "metadata": {},
   "outputs": [],
   "source": [
    "from sklearn.preprocessing import LabelEncoder\n",
    "from xgboost import XGBClassifier\n",
    "\n",
    "def runXGB(X, Y):\n",
    "    # Encode the target labels as integers\n",
    "    label_encoder = LabelEncoder()\n",
    "    Y_encoded = label_encoder.fit_transform(Y)\n",
    "    \"\"\"\n",
    "    # Initialize k-fold cross-validation\n",
    "    kf = StratifiedKFold(n_splits=5, shuffle=True, random_state=42)\n",
    "    \"\"\"\n",
    "    # Initialize the XGBoost classifier\n",
    "    xgb = XGBClassifier(\n",
    "        use_label_encoder=False, \n",
    "        eval_metric='mlogloss', \n",
    "        #max_depth=3, \n",
    "        #subsample=0.8, \n",
    "        reg_alpha = 1,\n",
    "        #colsample_bytree=0.8, \n",
    "        #n_estimators=100,\n",
    "        #tree_method='hist',\n",
    "        random_state=42)\n",
    "    \n",
    "    #Performance metrics\n",
    "    accuracies_train = []\n",
    "    precisions_train = []\n",
    "    f1_scores_train = []\n",
    "    recalls_train = []\n",
    "    aucs_train = []\n",
    "    \n",
    "    # Performance metrics\n",
    "    accuracies = []\n",
    "    precisions = []\n",
    "    f1_scores = []\n",
    "    recalls = []\n",
    "    aucs = []\n",
    "\n",
    "    # Split into training and testing sets\n",
    "    X_train, X_test, Y_train, Y_test = train_test_split(X, Y_encoded, test_size=0.2, random_state=42)\n",
    "\n",
    "    # Fit the model\n",
    "    xgb.fit(X_train, Y_train)\n",
    "        \n",
    "    # Predict probabilities and labels\n",
    "    Y_pred_train = xgb.predict(X_train)\n",
    "    Y_pred = xgb.predict(X_test)\n",
    "    Y_proba_train = xgb.predict(X_train)\n",
    "    Y_proba = xgb.predict_proba(X_test)\n",
    "        \n",
    "    #Compute training metrics\n",
    "    accuracies_train.append(accuracy_score(Y_train, Y_pred_train))\n",
    "    precisions_train.append(precision_score(Y_train, Y_pred_train, average='weighted'))\n",
    "    f1_scores_train.append(f1_score(Y_train, Y_pred_train, average='weighted'))\n",
    "    recalls_train.append(recall_score(Y_train, Y_pred_train, average='weighted'))\n",
    "    #aucs_train.append(roc_auc_score(Y_train, Y_proba_train, multi_class='ovr'))\n",
    "        \n",
    "    # Compute metrics\n",
    "    accuracies.append(accuracy_score(Y_test, Y_pred))\n",
    "    precisions.append(precision_score(Y_test, Y_pred, average='weighted'))\n",
    "    f1_scores.append(f1_score(Y_test, Y_pred, average='weighted'))\n",
    "    recalls.append(recall_score(Y_test, Y_pred, average='weighted'))\n",
    "        \n",
    "    # For multi-class AUC, use 'ovr' (One-vs-Rest) strategy\n",
    "    aucs.append(roc_auc_score(Y_test, Y_proba, multi_class='ovr'))\n",
    "    \n",
    "    \"\"\"\n",
    "    # Perform k-fold cross-validation\n",
    "    for train_index, test_index in kf.split(X, Y):\n",
    "        X_train, X_test = X[train_index], X[test_index]\n",
    "        Y_train, Y_test = Y_encoded[train_index], Y_encoded[test_index]\n",
    "    \n",
    "        \n",
    "        # Fit the model\n",
    "        xgb.fit(X_train, Y_train)\n",
    "        \n",
    "        # Predict probabilities and labels\n",
    "        Y_pred_train = xgb.predict(X_train)\n",
    "        Y_pred = xgb.predict(X_test)\n",
    "        Y_proba_train = xgb.predict(X_train)\n",
    "        Y_proba = xgb.predict_proba(X_test)\n",
    "        \n",
    "        #Compute training metrics\n",
    "        accuracies_train.append(accuracy_score(Y_train, Y_pred_train))\n",
    "        precisions_train.append(precision_score(Y_train, Y_pred_train, average='weighted'))\n",
    "        f1_scores_train.append(f1_score(Y_train, Y_pred_train, average='weighted'))\n",
    "        recalls_train.append(recall_score(Y_train, Y_pred_train, average='weighted'))\n",
    "        #aucs_train.append(roc_auc_score(Y_train, Y_proba_train, multi_class='ovr'))\n",
    "        \n",
    "        # Compute metrics\n",
    "        accuracies.append(accuracy_score(Y_test, Y_pred))\n",
    "        precisions.append(precision_score(Y_test, Y_pred, average='weighted'))\n",
    "        f1_scores.append(f1_score(Y_test, Y_pred, average='weighted'))\n",
    "        recalls.append(recall_score(Y_test, Y_pred, average='weighted'))\n",
    "        \n",
    "        # For multi-class AUC, use 'ovr' (One-vs-Rest) strategy\n",
    "        aucs.append(roc_auc_score(Y_test, Y_proba, multi_class='ovr'))\n",
    "    \"\"\"\n",
    "    #Calculate train metrics\n",
    "    mean_accuracy_train = np.mean(accuracies_train)\n",
    "    mean_precision_train = np.mean(precisions_train)\n",
    "    mean_f1_train = np.mean(f1_scores_train)\n",
    "    mean_recall_train = np.mean(recalls_train)\n",
    "    mean_auc_train = np.mean(aucs_train)\n",
    "    \n",
    "    # Calculate test metrics\n",
    "    mean_accuracy = np.mean(accuracies)\n",
    "    mean_precision = np.mean(precisions)\n",
    "    mean_f1 = np.mean(f1_scores)\n",
    "    mean_recall = np.mean(recalls)\n",
    "    mean_auc = np.mean(aucs)\n",
    "    \n",
    "    #Display the results\n",
    "    print(f\"Mean Train Accuracy: {mean_accuracy_train}\")\n",
    "    print(f\"Mean Train Precision: {mean_precision_train}\")\n",
    "    print(f\"Mean Train F1 Score: {mean_f1_train}\")\n",
    "    print(f\"Mean Train Recall: {mean_recall_train}\")\n",
    "    #print(f\"Mean Train AUC: {mean_auc_train}\")\n",
    "    \n",
    "    # Display the results\n",
    "    print()\n",
    "    print(f\"Mean Accuracy: {mean_accuracy}\")\n",
    "    print(f\"Mean Precision: {mean_precision}\")\n",
    "    print(f\"Mean F1 Score: {mean_f1}\")\n",
    "    print(f\"Mean Recall: {mean_recall}\")\n",
    "    print(f\"Mean AUC: {mean_auc}\")\n",
    "\n",
    "    return(mean_accuracy, Y_pred)"
   ]
  },
  {
   "cell_type": "markdown",
   "id": "ed03ded7-887e-4cac-a522-df1a1e2b3231",
   "metadata": {},
   "source": [
    "### Multilayer perceptron."
   ]
  },
  {
   "cell_type": "code",
   "execution_count": 259,
   "id": "cbdb6765-0146-44f8-b4c5-b2aee61e7400",
   "metadata": {},
   "outputs": [],
   "source": [
    "from sklearn.preprocessing import OneHotEncoder, StandardScaler\n",
    "from tensorflow.keras.models import Sequential\n",
    "from tensorflow.keras.layers import Dense, Dropout\n",
    "from tensorflow.keras.utils import to_categorical\n",
    "\n",
    "def runMLP(X):\n",
    "    # Preprocess the target variable (One-Hot Encoding)\n",
    "    one_hot_encoder = OneHotEncoder(sparse_output=False)\n",
    "    Y_encoded = one_hot_encoder.fit_transform(combinedPhenoBetas_new[\"CancerSubtype\"].values.reshape(-1, 1))\n",
    "    \n",
    "    # Standardize the features\n",
    "    scaler = StandardScaler()\n",
    "    X_scaled = scaler.fit_transform(X)\n",
    "    \n",
    "    # Split into training and testing sets\n",
    "    X_train, X_test, Y_train, Y_test = train_test_split(X_scaled, Y_encoded, test_size=0.2, random_state=42)\n",
    "    \n",
    "    # Define the Multilayer Perceptron model\n",
    "    model = Sequential([\n",
    "        Dense(256, activation='relu', input_dim=X_train.shape[1]),  # Input/First layer\n",
    "        Dropout(0.1),  # Dropout for regularization\n",
    "        Dense(128, activation='relu'),  # Second layer\n",
    "        Dropout(0.2),\n",
    "        Dense(64, activation='relu'),  # Third layer\n",
    "        Dropout(0.2),\n",
    "        Dense(Y_train.shape[1], activation='softmax')  # Fifth layer (Output layer)\n",
    "    ])\n",
    "    \n",
    "    # Compile the model\n",
    "    model.compile(optimizer='adam', loss='categorical_crossentropy', metrics=['accuracy'])\n",
    "    \n",
    "    # Train the model\n",
    "    history = model.fit(X_train, Y_train, validation_data=(X_test, Y_test), epochs=50, batch_size=32)\n",
    "\n",
    "    # Predict on the test set\n",
    "    Y_pred_probs = model.predict(X_test)\n",
    "    \n",
    "    # Convert the predicted one-hot encoded vectors back to class indices\n",
    "    Y_pred_class_indices = Y_pred_probs.argmax(axis=1)\n",
    "    \n",
    "    # Convert the class indices back to the original string labels\n",
    "    Y_pred_classes = one_hot_encoder.categories_[0][Y_pred_class_indices]\n",
    "    \n",
    "    # Evaluate the model\n",
    "    loss, accuracy = model.evaluate(X_test, Y_test)\n",
    "    print(f\"Test Loss: {loss:.4f}\")\n",
    "    print(f\"Test Accuracy: {accuracy:.4f}\")\n",
    "    \n",
    "    # Save the model\n",
    "    model.save(\"mlp_model.h5\")\n",
    "    return(accuracy, Y_pred_classes, Y_pred_probs)\n"
   ]
  },
  {
   "cell_type": "markdown",
   "id": "ccd6778e-d8a8-476b-b06b-bce2e4060b41",
   "metadata": {},
   "source": [
    "### Models just using beta values."
   ]
  },
  {
   "cell_type": "markdown",
   "id": "e3522319-b765-48d4-888b-914f755390cc",
   "metadata": {},
   "source": [
    "#### Dimentionality reduction."
   ]
  },
  {
   "cell_type": "markdown",
   "id": "27a66fcd-69e7-4f32-8611-5d376c66776d",
   "metadata": {},
   "source": [
    "##### PCA"
   ]
  },
  {
   "cell_type": "code",
   "execution_count": null,
   "id": "2b4cc000-8001-46ed-a24b-ae8d74c92313",
   "metadata": {},
   "outputs": [],
   "source": [
    "from sklearn.decomposition import PCA\n",
    "#PCA to reduce dimensions - n-components = 200\n",
    "pca200=PCA(n_components=200)\n",
    "combinedBetas_batch_corrected_pca200=pca200.fit_transform(combinedPhenoBetas_new.drop(columns=[\"Age\",\"Sex\",\"CancerType\",\"CancerSubtype\"]))"
   ]
  },
  {
   "cell_type": "code",
   "execution_count": null,
   "id": "0639e469-2d21-4301-8ce3-67283743cb77",
   "metadata": {},
   "outputs": [],
   "source": [
    "#PCA to reduce dimensions - n-components = 20\n",
    "pca20=PCA(n_components=20)\n",
    "combinedBetas_batch_corrected_pca20=pca20.fit_transform(combinedPhenoBetas_new.drop(columns=[\"Age\",\"Sex\",\"CancerType\",\"CancerSubtype\"]))"
   ]
  },
  {
   "cell_type": "code",
   "execution_count": null,
   "id": "4645a17c-83d5-40b9-a30f-643357a1e0e8",
   "metadata": {},
   "outputs": [],
   "source": [
    "X_20 = combinedBetas_batch_corrected_pca20\n",
    "X_200 = combinedBetas_batch_corrected_pca200\n",
    "Y = combinedPhenoBetas_new[\"CancerSubtype\"].values"
   ]
  },
  {
   "cell_type": "markdown",
   "id": "0236dcf0-71d2-4f22-a369-630bccfb9a0b",
   "metadata": {},
   "source": [
    "##### K-Best"
   ]
  },
  {
   "cell_type": "code",
   "execution_count": 183,
   "id": "06147383-713a-40bb-804c-8e0e7731040d",
   "metadata": {},
   "outputs": [
    {
     "name": "stdout",
     "output_type": "stream",
     "text": [
      "(200, 371902)\n",
      "(200, 300)\n"
     ]
    }
   ],
   "source": [
    "from sklearn.datasets import load_digits\n",
    "from sklearn.feature_selection import SelectKBest, chi2\n",
    "X = combinedPhenoBetas_new.drop(columns=[\"Age\",\"Sex\",\"CancerType\",\"CancerSubtype\"])\n",
    "Y = combinedPhenoBetas_new[\"CancerSubtype\"].values\n",
    "print(X.shape)\n",
    "X_Kbest = SelectKBest(k=300).fit_transform(X, Y)\n",
    "print(X_Kbest.shape)"
   ]
  },
  {
   "cell_type": "markdown",
   "id": "136b8670-6509-4f04-8dd8-805fa7ea75d9",
   "metadata": {},
   "source": [
    "### Running the models."
   ]
  },
  {
   "cell_type": "markdown",
   "id": "38add405-f3db-47a8-981c-b8db170e4209",
   "metadata": {},
   "source": [
    "#### PCA"
   ]
  },
  {
   "cell_type": "code",
   "execution_count": 162,
   "id": "153f4627-8de1-441b-9f53-e44570d30cc9",
   "metadata": {},
   "outputs": [
    {
     "name": "stdout",
     "output_type": "stream",
     "text": [
      "Mean Train Accuracy: 1.0\n",
      "Mean Train Precision: 1.0\n",
      "Mean Train F1 Score: 1.0\n",
      "Mean Train Recall: 1.0\n",
      "\n",
      "Mean Test Accuracy: 0.8\n",
      "Mean Test Precision: 0.85\n",
      "Mean Test F1 Score: 0.8074603174603174\n",
      "Mean Test Recall: 0.8\n",
      "Mean Test AUC: 0.967425566656709\n"
     ]
    },
    {
     "name": "stderr",
     "output_type": "stream",
     "text": [
      "/opt/anaconda3/envs/MED264FinalProject/lib/python3.10/site-packages/numpy/core/fromnumeric.py:3432: RuntimeWarning: Mean of empty slice.\n",
      "  return _methods._mean(a, axis=axis, dtype=dtype,\n",
      "/opt/anaconda3/envs/MED264FinalProject/lib/python3.10/site-packages/numpy/core/_methods.py:190: RuntimeWarning: invalid value encountered in double_scalars\n",
      "  ret = ret.dtype.type(ret / rcount)\n"
     ]
    }
   ],
   "source": [
    "# SVC PCA 200\n",
    "SVC_PCA_200 = runSVC(X_200,Y)"
   ]
  },
  {
   "cell_type": "code",
   "execution_count": 163,
   "id": "c3bbddc6-bc38-412a-a9de-90d4278b084a",
   "metadata": {},
   "outputs": [
    {
     "name": "stdout",
     "output_type": "stream",
     "text": [
      "Mean Train Accuracy: 0.93125\n",
      "Mean Train Precision: 0.9323240599593495\n",
      "Mean Train F1 Score: 0.9307997229064039\n",
      "Mean Train Recall: 0.93125\n",
      "\n",
      "Mean Test Accuracy: 0.625\n",
      "Mean Test Precision: 0.7233333333333334\n",
      "Mean Test F1 Score: 0.6362213950923629\n",
      "Mean Test Recall: 0.625\n",
      "Mean Test AUC: 0.9566531615552353\n"
     ]
    },
    {
     "name": "stderr",
     "output_type": "stream",
     "text": [
      "/opt/anaconda3/envs/MED264FinalProject/lib/python3.10/site-packages/numpy/core/fromnumeric.py:3432: RuntimeWarning: Mean of empty slice.\n",
      "  return _methods._mean(a, axis=axis, dtype=dtype,\n",
      "/opt/anaconda3/envs/MED264FinalProject/lib/python3.10/site-packages/numpy/core/_methods.py:190: RuntimeWarning: invalid value encountered in double_scalars\n",
      "  ret = ret.dtype.type(ret / rcount)\n"
     ]
    }
   ],
   "source": [
    "# SVC PCA 20\n",
    "SVC_PCA_20 = runSVC(X_20,Y)"
   ]
  },
  {
   "cell_type": "code",
   "execution_count": 164,
   "id": "a321dfa3-f01f-4440-9eb5-aa2e5b8f2671",
   "metadata": {},
   "outputs": [
    {
     "name": "stderr",
     "output_type": "stream",
     "text": [
      "/opt/anaconda3/envs/MED264FinalProject/lib/python3.10/site-packages/xgboost/core.py:158: UserWarning: [22:49:41] WARNING: /var/folders/c_/qfmhj66j0tn016nkx_th4hxm0000gp/T/abs_b6qk1lz_ug/croot/xgboost-split_1724073748391/work/src/learner.cc:740: \n",
      "Parameters: { \"use_label_encoder\" } are not used.\n",
      "\n",
      "  warnings.warn(smsg, UserWarning)\n"
     ]
    },
    {
     "name": "stdout",
     "output_type": "stream",
     "text": [
      "Mean Train Accuracy: 1.0\n",
      "Mean Train Precision: 1.0\n",
      "Mean Train F1 Score: 1.0\n",
      "Mean Train Recall: 1.0\n",
      "\n",
      "Mean Accuracy: 0.675\n",
      "Mean Precision: 0.7148901098901098\n",
      "Mean F1 Score: 0.6831109742747674\n",
      "Mean Recall: 0.675\n",
      "Mean AUC: 0.9415442816261395\n"
     ]
    },
    {
     "name": "stderr",
     "output_type": "stream",
     "text": [
      "/opt/anaconda3/envs/MED264FinalProject/lib/python3.10/site-packages/sklearn/metrics/_classification.py:1531: UndefinedMetricWarning: Precision is ill-defined and being set to 0.0 in labels with no predicted samples. Use `zero_division` parameter to control this behavior.\n",
      "  _warn_prf(average, modifier, f\"{metric.capitalize()} is\", len(result))\n",
      "/opt/anaconda3/envs/MED264FinalProject/lib/python3.10/site-packages/numpy/core/fromnumeric.py:3432: RuntimeWarning: Mean of empty slice.\n",
      "  return _methods._mean(a, axis=axis, dtype=dtype,\n",
      "/opt/anaconda3/envs/MED264FinalProject/lib/python3.10/site-packages/numpy/core/_methods.py:190: RuntimeWarning: invalid value encountered in double_scalars\n",
      "  ret = ret.dtype.type(ret / rcount)\n"
     ]
    }
   ],
   "source": [
    "# XGB PCA 200\n",
    "XGB_PCA_200 = runXGB(X_200,Y)"
   ]
  },
  {
   "cell_type": "code",
   "execution_count": 165,
   "id": "941cb177-ade6-4a97-8d24-95ffea750093",
   "metadata": {},
   "outputs": [
    {
     "name": "stderr",
     "output_type": "stream",
     "text": [
      "/opt/anaconda3/envs/MED264FinalProject/lib/python3.10/site-packages/xgboost/core.py:158: UserWarning: [22:49:56] WARNING: /var/folders/c_/qfmhj66j0tn016nkx_th4hxm0000gp/T/abs_b6qk1lz_ug/croot/xgboost-split_1724073748391/work/src/learner.cc:740: \n",
      "Parameters: { \"use_label_encoder\" } are not used.\n",
      "\n",
      "  warnings.warn(smsg, UserWarning)\n"
     ]
    },
    {
     "name": "stdout",
     "output_type": "stream",
     "text": [
      "Mean Train Accuracy: 1.0\n",
      "Mean Train Precision: 1.0\n",
      "Mean Train F1 Score: 1.0\n",
      "Mean Train Recall: 1.0\n",
      "\n",
      "Mean Accuracy: 0.65\n",
      "Mean Precision: 0.6802380952380952\n",
      "Mean F1 Score: 0.6568055555555556\n",
      "Mean Recall: 0.65\n",
      "Mean AUC: 0.9094505245084313\n"
     ]
    },
    {
     "name": "stderr",
     "output_type": "stream",
     "text": [
      "/opt/anaconda3/envs/MED264FinalProject/lib/python3.10/site-packages/numpy/core/fromnumeric.py:3432: RuntimeWarning: Mean of empty slice.\n",
      "  return _methods._mean(a, axis=axis, dtype=dtype,\n",
      "/opt/anaconda3/envs/MED264FinalProject/lib/python3.10/site-packages/numpy/core/_methods.py:190: RuntimeWarning: invalid value encountered in double_scalars\n",
      "  ret = ret.dtype.type(ret / rcount)\n"
     ]
    }
   ],
   "source": [
    "# XGB PCA 20\n",
    "XGB_PCA_20 = runXGB(X_20,Y)"
   ]
  },
  {
   "cell_type": "code",
   "execution_count": 234,
   "id": "517ae210-a406-45a2-beca-f851fe640f69",
   "metadata": {},
   "outputs": [
    {
     "name": "stdout",
     "output_type": "stream",
     "text": [
      "Epoch 1/50\n",
      "5/5 [==============================] - 1s 55ms/step - loss: 2.1111 - accuracy: 0.1937 - val_loss: 1.7677 - val_accuracy: 0.3750\n",
      "Epoch 2/50\n",
      "5/5 [==============================] - 0s 10ms/step - loss: 1.7071 - accuracy: 0.2875 - val_loss: 1.7716 - val_accuracy: 0.3000\n",
      "Epoch 3/50\n",
      "5/5 [==============================] - 0s 10ms/step - loss: 1.5469 - accuracy: 0.4062 - val_loss: 1.7483 - val_accuracy: 0.3000\n",
      "Epoch 4/50\n",
      "5/5 [==============================] - 0s 10ms/step - loss: 1.3430 - accuracy: 0.5188 - val_loss: 1.7263 - val_accuracy: 0.2750\n",
      "Epoch 5/50\n",
      "5/5 [==============================] - 0s 11ms/step - loss: 1.2179 - accuracy: 0.6250 - val_loss: 1.7069 - val_accuracy: 0.3500\n",
      "Epoch 6/50\n",
      "5/5 [==============================] - 0s 12ms/step - loss: 1.0560 - accuracy: 0.7125 - val_loss: 1.7083 - val_accuracy: 0.3750\n",
      "Epoch 7/50\n",
      "5/5 [==============================] - 0s 12ms/step - loss: 0.9230 - accuracy: 0.7937 - val_loss: 1.7223 - val_accuracy: 0.3500\n",
      "Epoch 8/50\n",
      "5/5 [==============================] - 0s 12ms/step - loss: 0.7673 - accuracy: 0.8125 - val_loss: 1.7872 - val_accuracy: 0.3250\n",
      "Epoch 9/50\n",
      "5/5 [==============================] - 0s 12ms/step - loss: 0.6588 - accuracy: 0.8625 - val_loss: 1.8450 - val_accuracy: 0.3000\n",
      "Epoch 10/50\n",
      "5/5 [==============================] - 0s 13ms/step - loss: 0.4703 - accuracy: 0.8813 - val_loss: 1.8209 - val_accuracy: 0.2500\n",
      "Epoch 11/50\n",
      "5/5 [==============================] - 0s 11ms/step - loss: 0.3633 - accuracy: 0.9250 - val_loss: 1.8360 - val_accuracy: 0.2500\n",
      "Epoch 12/50\n",
      "5/5 [==============================] - 0s 13ms/step - loss: 0.2643 - accuracy: 0.9750 - val_loss: 1.9023 - val_accuracy: 0.2250\n",
      "Epoch 13/50\n",
      "5/5 [==============================] - 0s 13ms/step - loss: 0.1718 - accuracy: 0.9937 - val_loss: 1.9840 - val_accuracy: 0.2500\n",
      "Epoch 14/50\n",
      "5/5 [==============================] - 0s 12ms/step - loss: 0.1987 - accuracy: 0.9625 - val_loss: 2.0735 - val_accuracy: 0.2750\n",
      "Epoch 15/50\n",
      "5/5 [==============================] - 0s 12ms/step - loss: 0.1263 - accuracy: 0.9812 - val_loss: 2.1211 - val_accuracy: 0.2500\n",
      "Epoch 16/50\n",
      "5/5 [==============================] - 0s 12ms/step - loss: 0.0965 - accuracy: 0.9937 - val_loss: 2.1458 - val_accuracy: 0.2500\n",
      "Epoch 17/50\n",
      "5/5 [==============================] - 0s 11ms/step - loss: 0.0888 - accuracy: 0.9937 - val_loss: 2.2003 - val_accuracy: 0.2250\n",
      "Epoch 18/50\n",
      "5/5 [==============================] - 0s 13ms/step - loss: 0.0735 - accuracy: 0.9937 - val_loss: 2.3013 - val_accuracy: 0.2000\n",
      "Epoch 19/50\n",
      "5/5 [==============================] - 0s 10ms/step - loss: 0.0561 - accuracy: 1.0000 - val_loss: 2.3185 - val_accuracy: 0.2000\n",
      "Epoch 20/50\n",
      "5/5 [==============================] - 0s 11ms/step - loss: 0.0821 - accuracy: 0.9937 - val_loss: 2.2906 - val_accuracy: 0.2000\n",
      "Epoch 21/50\n",
      "5/5 [==============================] - 0s 10ms/step - loss: 0.0503 - accuracy: 0.9937 - val_loss: 2.2736 - val_accuracy: 0.2500\n",
      "Epoch 22/50\n",
      "5/5 [==============================] - 0s 10ms/step - loss: 0.0551 - accuracy: 1.0000 - val_loss: 2.2712 - val_accuracy: 0.2500\n",
      "Epoch 23/50\n",
      "5/5 [==============================] - 0s 11ms/step - loss: 0.0219 - accuracy: 1.0000 - val_loss: 2.2804 - val_accuracy: 0.2500\n",
      "Epoch 24/50\n",
      "5/5 [==============================] - 0s 10ms/step - loss: 0.0352 - accuracy: 0.9937 - val_loss: 2.3313 - val_accuracy: 0.2250\n",
      "Epoch 25/50\n",
      "5/5 [==============================] - 0s 10ms/step - loss: 0.0332 - accuracy: 1.0000 - val_loss: 2.3991 - val_accuracy: 0.2250\n",
      "Epoch 26/50\n",
      "5/5 [==============================] - 0s 11ms/step - loss: 0.0424 - accuracy: 0.9812 - val_loss: 2.4652 - val_accuracy: 0.2250\n",
      "Epoch 27/50\n",
      "5/5 [==============================] - 0s 10ms/step - loss: 0.0229 - accuracy: 1.0000 - val_loss: 2.5196 - val_accuracy: 0.2000\n",
      "Epoch 28/50\n",
      "5/5 [==============================] - 0s 11ms/step - loss: 0.0345 - accuracy: 0.9937 - val_loss: 2.5222 - val_accuracy: 0.2250\n",
      "Epoch 29/50\n",
      "5/5 [==============================] - 0s 11ms/step - loss: 0.0186 - accuracy: 1.0000 - val_loss: 2.5810 - val_accuracy: 0.2000\n",
      "Epoch 30/50\n",
      "5/5 [==============================] - 0s 11ms/step - loss: 0.0257 - accuracy: 0.9875 - val_loss: 2.6191 - val_accuracy: 0.2000\n",
      "Epoch 31/50\n",
      "5/5 [==============================] - 0s 10ms/step - loss: 0.0269 - accuracy: 0.9937 - val_loss: 2.5614 - val_accuracy: 0.2250\n",
      "Epoch 32/50\n",
      "5/5 [==============================] - 0s 11ms/step - loss: 0.0284 - accuracy: 0.9937 - val_loss: 2.5310 - val_accuracy: 0.2250\n",
      "Epoch 33/50\n",
      "5/5 [==============================] - 0s 11ms/step - loss: 0.0153 - accuracy: 1.0000 - val_loss: 2.5583 - val_accuracy: 0.2000\n",
      "Epoch 34/50\n",
      "5/5 [==============================] - 0s 10ms/step - loss: 0.0206 - accuracy: 0.9937 - val_loss: 2.5752 - val_accuracy: 0.2250\n",
      "Epoch 35/50\n",
      "5/5 [==============================] - 0s 11ms/step - loss: 0.0125 - accuracy: 1.0000 - val_loss: 2.5780 - val_accuracy: 0.2000\n",
      "Epoch 36/50\n",
      "5/5 [==============================] - 0s 11ms/step - loss: 0.0120 - accuracy: 1.0000 - val_loss: 2.5936 - val_accuracy: 0.2250\n",
      "Epoch 37/50\n",
      "5/5 [==============================] - 0s 11ms/step - loss: 0.0091 - accuracy: 1.0000 - val_loss: 2.6073 - val_accuracy: 0.2250\n",
      "Epoch 38/50\n",
      "5/5 [==============================] - 0s 12ms/step - loss: 0.0173 - accuracy: 1.0000 - val_loss: 2.5999 - val_accuracy: 0.2250\n",
      "Epoch 39/50\n",
      "5/5 [==============================] - 0s 12ms/step - loss: 0.0105 - accuracy: 1.0000 - val_loss: 2.6018 - val_accuracy: 0.2250\n",
      "Epoch 40/50\n",
      "5/5 [==============================] - 0s 11ms/step - loss: 0.0068 - accuracy: 1.0000 - val_loss: 2.5994 - val_accuracy: 0.2250\n",
      "Epoch 41/50\n",
      "5/5 [==============================] - 0s 10ms/step - loss: 0.0091 - accuracy: 1.0000 - val_loss: 2.6183 - val_accuracy: 0.2250\n",
      "Epoch 42/50\n",
      "5/5 [==============================] - 0s 13ms/step - loss: 0.0043 - accuracy: 1.0000 - val_loss: 2.6442 - val_accuracy: 0.2250\n",
      "Epoch 43/50\n",
      "5/5 [==============================] - 0s 12ms/step - loss: 0.0181 - accuracy: 1.0000 - val_loss: 2.6788 - val_accuracy: 0.2250\n",
      "Epoch 44/50\n",
      "5/5 [==============================] - 0s 12ms/step - loss: 0.0077 - accuracy: 1.0000 - val_loss: 2.6814 - val_accuracy: 0.2250\n",
      "Epoch 45/50\n",
      "5/5 [==============================] - 0s 13ms/step - loss: 0.0050 - accuracy: 1.0000 - val_loss: 2.6881 - val_accuracy: 0.2000\n",
      "Epoch 46/50\n",
      "5/5 [==============================] - 0s 11ms/step - loss: 0.0162 - accuracy: 1.0000 - val_loss: 2.6793 - val_accuracy: 0.2000\n",
      "Epoch 47/50\n",
      "5/5 [==============================] - 0s 11ms/step - loss: 0.0062 - accuracy: 1.0000 - val_loss: 2.6613 - val_accuracy: 0.2000\n",
      "Epoch 48/50\n",
      "5/5 [==============================] - 0s 12ms/step - loss: 0.0131 - accuracy: 1.0000 - val_loss: 2.7117 - val_accuracy: 0.2250\n",
      "Epoch 49/50\n",
      "5/5 [==============================] - 0s 12ms/step - loss: 0.0105 - accuracy: 1.0000 - val_loss: 2.7455 - val_accuracy: 0.2000\n",
      "Epoch 50/50\n",
      "5/5 [==============================] - 0s 11ms/step - loss: 0.0088 - accuracy: 1.0000 - val_loss: 2.7931 - val_accuracy: 0.2000\n",
      "2/2 [==============================] - 0s 2ms/step\n",
      "2/2 [==============================] - 0s 4ms/step - loss: 2.7931 - accuracy: 0.2000\n",
      "Test Loss: 2.7931\n",
      "Test Accuracy: 0.2000\n"
     ]
    }
   ],
   "source": [
    "# MLP PCA 200\n",
    "MLP_PCA_200 = runMLP(X_200)"
   ]
  },
  {
   "cell_type": "code",
   "execution_count": 260,
   "id": "541400ce-1eef-487c-8917-567ff391ad19",
   "metadata": {},
   "outputs": [
    {
     "name": "stdout",
     "output_type": "stream",
     "text": [
      "Epoch 1/50\n",
      "5/5 [==============================] - 1s 59ms/step - loss: 1.9516 - accuracy: 0.2688 - val_loss: 1.8437 - val_accuracy: 0.4750\n",
      "Epoch 2/50\n",
      "5/5 [==============================] - 0s 10ms/step - loss: 1.8128 - accuracy: 0.4000 - val_loss: 1.7468 - val_accuracy: 0.6250\n",
      "Epoch 3/50\n",
      "5/5 [==============================] - 0s 10ms/step - loss: 1.6950 - accuracy: 0.5375 - val_loss: 1.6479 - val_accuracy: 0.6000\n",
      "Epoch 4/50\n",
      "5/5 [==============================] - 0s 10ms/step - loss: 1.5567 - accuracy: 0.5562 - val_loss: 1.5179 - val_accuracy: 0.6500\n",
      "Epoch 5/50\n",
      "5/5 [==============================] - 0s 11ms/step - loss: 1.4535 - accuracy: 0.6313 - val_loss: 1.3812 - val_accuracy: 0.7500\n",
      "Epoch 6/50\n",
      "5/5 [==============================] - 0s 11ms/step - loss: 1.2776 - accuracy: 0.6062 - val_loss: 1.2459 - val_accuracy: 0.7500\n",
      "Epoch 7/50\n",
      "5/5 [==============================] - 0s 11ms/step - loss: 1.1884 - accuracy: 0.6500 - val_loss: 1.1253 - val_accuracy: 0.7500\n",
      "Epoch 8/50\n",
      "5/5 [==============================] - 0s 10ms/step - loss: 1.0577 - accuracy: 0.7250 - val_loss: 1.0223 - val_accuracy: 0.7750\n",
      "Epoch 9/50\n",
      "5/5 [==============================] - 0s 13ms/step - loss: 0.9784 - accuracy: 0.6938 - val_loss: 0.9336 - val_accuracy: 0.7750\n",
      "Epoch 10/50\n",
      "5/5 [==============================] - 0s 13ms/step - loss: 0.8930 - accuracy: 0.7250 - val_loss: 0.8780 - val_accuracy: 0.7750\n",
      "Epoch 11/50\n",
      "5/5 [==============================] - 0s 11ms/step - loss: 0.8196 - accuracy: 0.7250 - val_loss: 0.8144 - val_accuracy: 0.7750\n",
      "Epoch 12/50\n",
      "5/5 [==============================] - 0s 10ms/step - loss: 0.7690 - accuracy: 0.7437 - val_loss: 0.7792 - val_accuracy: 0.7750\n",
      "Epoch 13/50\n",
      "5/5 [==============================] - 0s 10ms/step - loss: 0.7307 - accuracy: 0.7500 - val_loss: 0.7590 - val_accuracy: 0.7500\n",
      "Epoch 14/50\n",
      "5/5 [==============================] - 0s 10ms/step - loss: 0.6812 - accuracy: 0.7750 - val_loss: 0.7542 - val_accuracy: 0.7250\n",
      "Epoch 15/50\n",
      "5/5 [==============================] - 0s 10ms/step - loss: 0.6673 - accuracy: 0.7500 - val_loss: 0.7603 - val_accuracy: 0.7250\n",
      "Epoch 16/50\n",
      "5/5 [==============================] - 0s 10ms/step - loss: 0.6187 - accuracy: 0.8000 - val_loss: 0.7360 - val_accuracy: 0.7250\n",
      "Epoch 17/50\n",
      "5/5 [==============================] - 0s 13ms/step - loss: 0.6349 - accuracy: 0.7750 - val_loss: 0.7232 - val_accuracy: 0.7000\n",
      "Epoch 18/50\n",
      "5/5 [==============================] - 0s 10ms/step - loss: 0.5764 - accuracy: 0.8125 - val_loss: 0.7327 - val_accuracy: 0.7000\n",
      "Epoch 19/50\n",
      "5/5 [==============================] - 0s 10ms/step - loss: 0.5832 - accuracy: 0.8313 - val_loss: 0.7589 - val_accuracy: 0.7250\n",
      "Epoch 20/50\n",
      "5/5 [==============================] - 0s 12ms/step - loss: 0.5940 - accuracy: 0.8000 - val_loss: 0.7802 - val_accuracy: 0.7000\n",
      "Epoch 21/50\n",
      "5/5 [==============================] - 0s 11ms/step - loss: 0.4951 - accuracy: 0.8062 - val_loss: 0.7751 - val_accuracy: 0.7000\n",
      "Epoch 22/50\n",
      "5/5 [==============================] - 0s 11ms/step - loss: 0.4493 - accuracy: 0.8500 - val_loss: 0.7510 - val_accuracy: 0.7250\n",
      "Epoch 23/50\n",
      "5/5 [==============================] - 0s 11ms/step - loss: 0.4825 - accuracy: 0.8313 - val_loss: 0.7534 - val_accuracy: 0.7250\n",
      "Epoch 24/50\n",
      "5/5 [==============================] - 0s 11ms/step - loss: 0.5087 - accuracy: 0.8062 - val_loss: 0.7498 - val_accuracy: 0.7250\n",
      "Epoch 25/50\n",
      "5/5 [==============================] - 0s 10ms/step - loss: 0.4522 - accuracy: 0.8500 - val_loss: 0.7686 - val_accuracy: 0.7250\n",
      "Epoch 26/50\n",
      "5/5 [==============================] - 0s 10ms/step - loss: 0.4205 - accuracy: 0.8562 - val_loss: 0.7752 - val_accuracy: 0.7250\n",
      "Epoch 27/50\n",
      "5/5 [==============================] - 0s 10ms/step - loss: 0.4498 - accuracy: 0.8375 - val_loss: 0.7842 - val_accuracy: 0.7250\n",
      "Epoch 28/50\n",
      "5/5 [==============================] - 0s 10ms/step - loss: 0.4093 - accuracy: 0.8562 - val_loss: 0.7763 - val_accuracy: 0.7250\n",
      "Epoch 29/50\n",
      "5/5 [==============================] - 0s 11ms/step - loss: 0.4460 - accuracy: 0.8375 - val_loss: 0.7778 - val_accuracy: 0.7250\n",
      "Epoch 30/50\n",
      "5/5 [==============================] - 0s 24ms/step - loss: 0.4001 - accuracy: 0.8813 - val_loss: 0.7611 - val_accuracy: 0.7250\n",
      "Epoch 31/50\n",
      "5/5 [==============================] - 0s 11ms/step - loss: 0.4063 - accuracy: 0.8438 - val_loss: 0.8040 - val_accuracy: 0.7250\n",
      "Epoch 32/50\n",
      "5/5 [==============================] - 0s 10ms/step - loss: 0.3591 - accuracy: 0.8750 - val_loss: 0.8270 - val_accuracy: 0.7250\n",
      "Epoch 33/50\n",
      "5/5 [==============================] - 0s 11ms/step - loss: 0.3590 - accuracy: 0.8500 - val_loss: 0.7971 - val_accuracy: 0.7500\n",
      "Epoch 34/50\n",
      "5/5 [==============================] - 0s 11ms/step - loss: 0.3587 - accuracy: 0.8938 - val_loss: 0.7999 - val_accuracy: 0.7500\n",
      "Epoch 35/50\n",
      "5/5 [==============================] - 0s 10ms/step - loss: 0.3218 - accuracy: 0.8875 - val_loss: 0.8427 - val_accuracy: 0.7500\n",
      "Epoch 36/50\n",
      "5/5 [==============================] - 0s 10ms/step - loss: 0.3076 - accuracy: 0.9125 - val_loss: 0.8918 - val_accuracy: 0.7500\n",
      "Epoch 37/50\n",
      "5/5 [==============================] - 0s 10ms/step - loss: 0.3236 - accuracy: 0.9125 - val_loss: 0.9235 - val_accuracy: 0.7250\n",
      "Epoch 38/50\n",
      "5/5 [==============================] - 0s 10ms/step - loss: 0.3315 - accuracy: 0.8938 - val_loss: 0.9639 - val_accuracy: 0.7250\n",
      "Epoch 39/50\n",
      "5/5 [==============================] - 0s 10ms/step - loss: 0.2922 - accuracy: 0.9187 - val_loss: 0.9646 - val_accuracy: 0.7250\n",
      "Epoch 40/50\n",
      "5/5 [==============================] - 0s 9ms/step - loss: 0.2893 - accuracy: 0.8938 - val_loss: 0.9677 - val_accuracy: 0.7250\n",
      "Epoch 41/50\n",
      "5/5 [==============================] - 0s 10ms/step - loss: 0.2991 - accuracy: 0.9000 - val_loss: 0.9629 - val_accuracy: 0.7250\n",
      "Epoch 42/50\n",
      "5/5 [==============================] - 0s 11ms/step - loss: 0.3105 - accuracy: 0.8938 - val_loss: 0.9616 - val_accuracy: 0.7250\n",
      "Epoch 43/50\n",
      "5/5 [==============================] - 0s 10ms/step - loss: 0.2687 - accuracy: 0.9187 - val_loss: 0.8779 - val_accuracy: 0.7250\n",
      "Epoch 44/50\n",
      "5/5 [==============================] - 0s 10ms/step - loss: 0.2643 - accuracy: 0.9312 - val_loss: 0.8945 - val_accuracy: 0.7500\n",
      "Epoch 45/50\n",
      "5/5 [==============================] - 0s 10ms/step - loss: 0.2806 - accuracy: 0.9062 - val_loss: 0.9320 - val_accuracy: 0.7500\n",
      "Epoch 46/50\n",
      "5/5 [==============================] - 0s 11ms/step - loss: 0.3141 - accuracy: 0.8625 - val_loss: 0.9610 - val_accuracy: 0.7500\n",
      "Epoch 47/50\n",
      "5/5 [==============================] - 0s 10ms/step - loss: 0.2877 - accuracy: 0.8875 - val_loss: 0.9715 - val_accuracy: 0.7250\n",
      "Epoch 48/50\n",
      "5/5 [==============================] - 0s 10ms/step - loss: 0.2663 - accuracy: 0.9062 - val_loss: 1.0034 - val_accuracy: 0.7500\n",
      "Epoch 49/50\n",
      "5/5 [==============================] - 0s 10ms/step - loss: 0.2726 - accuracy: 0.9250 - val_loss: 0.9823 - val_accuracy: 0.7250\n",
      "Epoch 50/50\n",
      "5/5 [==============================] - 0s 11ms/step - loss: 0.2448 - accuracy: 0.9250 - val_loss: 1.0506 - val_accuracy: 0.7250\n",
      "2/2 [==============================] - 0s 2ms/step\n",
      "2/2 [==============================] - 0s 4ms/step - loss: 1.0506 - accuracy: 0.7250\n",
      "Test Loss: 1.0506\n",
      "Test Accuracy: 0.7250\n"
     ]
    }
   ],
   "source": [
    "# MLP PCA 20\n",
    "MLP_PCA_20 = runMLP(X_20)"
   ]
  },
  {
   "cell_type": "code",
   "execution_count": 265,
   "id": "feabef38-b144-4cfa-a12e-d81725e76eeb",
   "metadata": {},
   "outputs": [
    {
     "name": "stdout",
     "output_type": "stream",
     "text": [
      "Precision:  0.7841666666666666\n",
      "F1:  0.7301587301587302\n",
      "Recall:  0.725\n",
      "AUC:  0.917480616357496\n"
     ]
    }
   ],
   "source": [
    "X_train, X_test, Y_train, Y_test = train_test_split(X, Y, test_size=0.2, random_state=42)\n",
    "Y_pred = MLP_PCA_20[1]\n",
    "Y_prob = MLP_PCA_20[2]\n",
    "print(\"Precision: \", precision_score(Y_test, Y_pred, average='weighted'))\n",
    "print(\"F1: \", f1_score(Y_test, Y_pred, average='weighted'))\n",
    "print(\"Recall: \", recall_score(Y_test, Y_pred, average='weighted'))\n",
    "print(\"AUC: \", roc_auc_score(Y_test, Y_prob, multi_class=\"ovr\"))"
   ]
  },
  {
   "cell_type": "markdown",
   "id": "1fe02d7b-3cad-45ee-a851-51ec6d2d96dd",
   "metadata": {},
   "source": [
    "#### K-best"
   ]
  },
  {
   "cell_type": "code",
   "execution_count": 184,
   "id": "ff0f4e94-f660-4d47-bdf3-122d4438ab74",
   "metadata": {},
   "outputs": [
    {
     "name": "stdout",
     "output_type": "stream",
     "text": [
      "Mean Train Accuracy: 0.90625\n",
      "Mean Train Precision: 0.9095160889448568\n",
      "Mean Train F1 Score: 0.9064573655762971\n",
      "Mean Train Recall: 0.90625\n",
      "\n",
      "Mean Test Accuracy: 0.8\n",
      "Mean Test Precision: 0.8185416666666665\n",
      "Mean Test F1 Score: 0.8041830065359477\n",
      "Mean Test Recall: 0.8\n",
      "Mean Test AUC: 0.97972657816855\n"
     ]
    },
    {
     "name": "stderr",
     "output_type": "stream",
     "text": [
      "/opt/anaconda3/envs/MED264FinalProject/lib/python3.10/site-packages/numpy/core/fromnumeric.py:3432: RuntimeWarning: Mean of empty slice.\n",
      "  return _methods._mean(a, axis=axis, dtype=dtype,\n",
      "/opt/anaconda3/envs/MED264FinalProject/lib/python3.10/site-packages/numpy/core/_methods.py:190: RuntimeWarning: invalid value encountered in double_scalars\n",
      "  ret = ret.dtype.type(ret / rcount)\n"
     ]
    }
   ],
   "source": [
    "# SVC K-best 300\n",
    "SVC_Kbest_300 = runSVC(X_Kbest,Y)"
   ]
  },
  {
   "cell_type": "code",
   "execution_count": 185,
   "id": "6b271939-9ad0-4cd3-8a82-85641f961a58",
   "metadata": {},
   "outputs": [
    {
     "name": "stderr",
     "output_type": "stream",
     "text": [
      "/opt/anaconda3/envs/MED264FinalProject/lib/python3.10/site-packages/xgboost/core.py:158: UserWarning: [22:57:53] WARNING: /var/folders/c_/qfmhj66j0tn016nkx_th4hxm0000gp/T/abs_b6qk1lz_ug/croot/xgboost-split_1724073748391/work/src/learner.cc:740: \n",
      "Parameters: { \"use_label_encoder\" } are not used.\n",
      "\n",
      "  warnings.warn(smsg, UserWarning)\n"
     ]
    },
    {
     "name": "stdout",
     "output_type": "stream",
     "text": [
      "Mean Train Accuracy: 1.0\n",
      "Mean Train Precision: 1.0\n",
      "Mean Train F1 Score: 1.0\n",
      "Mean Train Recall: 1.0\n",
      "\n",
      "Mean Accuracy: 0.775\n",
      "Mean Precision: 0.8404166666666667\n",
      "Mean F1 Score: 0.7829365079365079\n",
      "Mean Recall: 0.775\n",
      "Mean AUC: 0.9709139688049159\n"
     ]
    },
    {
     "name": "stderr",
     "output_type": "stream",
     "text": [
      "/opt/anaconda3/envs/MED264FinalProject/lib/python3.10/site-packages/numpy/core/fromnumeric.py:3432: RuntimeWarning: Mean of empty slice.\n",
      "  return _methods._mean(a, axis=axis, dtype=dtype,\n",
      "/opt/anaconda3/envs/MED264FinalProject/lib/python3.10/site-packages/numpy/core/_methods.py:190: RuntimeWarning: invalid value encountered in double_scalars\n",
      "  ret = ret.dtype.type(ret / rcount)\n"
     ]
    }
   ],
   "source": [
    "# XGB K-best 1000\n",
    "XGB_Kbest_300 = runXGB(X_Kbest,Y)"
   ]
  },
  {
   "cell_type": "code",
   "execution_count": 279,
   "id": "7a71eb3c-a174-4e93-8e63-9a2fc8870700",
   "metadata": {},
   "outputs": [
    {
     "name": "stdout",
     "output_type": "stream",
     "text": [
      "Epoch 1/50\n",
      "5/5 [==============================] - 1s 55ms/step - loss: 1.6788 - accuracy: 0.4500 - val_loss: 1.2198 - val_accuracy: 0.6750\n",
      "Epoch 2/50\n",
      "5/5 [==============================] - 0s 10ms/step - loss: 1.2874 - accuracy: 0.5625 - val_loss: 0.9041 - val_accuracy: 0.7000\n",
      "Epoch 3/50\n",
      "5/5 [==============================] - 0s 11ms/step - loss: 1.0746 - accuracy: 0.6250 - val_loss: 0.9029 - val_accuracy: 0.6500\n",
      "Epoch 4/50\n",
      "5/5 [==============================] - 0s 11ms/step - loss: 0.9004 - accuracy: 0.6687 - val_loss: 0.7889 - val_accuracy: 0.6500\n",
      "Epoch 5/50\n",
      "5/5 [==============================] - 0s 12ms/step - loss: 0.8485 - accuracy: 0.7000 - val_loss: 0.7316 - val_accuracy: 0.7250\n",
      "Epoch 6/50\n",
      "5/5 [==============================] - 0s 11ms/step - loss: 0.8223 - accuracy: 0.7188 - val_loss: 0.6487 - val_accuracy: 0.7250\n",
      "Epoch 7/50\n",
      "5/5 [==============================] - 0s 10ms/step - loss: 0.7438 - accuracy: 0.7312 - val_loss: 0.6417 - val_accuracy: 0.7000\n",
      "Epoch 8/50\n",
      "5/5 [==============================] - 0s 11ms/step - loss: 0.7201 - accuracy: 0.7563 - val_loss: 0.7193 - val_accuracy: 0.7250\n",
      "Epoch 9/50\n",
      "5/5 [==============================] - 0s 11ms/step - loss: 0.7447 - accuracy: 0.7250 - val_loss: 0.6609 - val_accuracy: 0.7000\n",
      "Epoch 10/50\n",
      "5/5 [==============================] - 0s 11ms/step - loss: 0.6524 - accuracy: 0.7563 - val_loss: 0.6202 - val_accuracy: 0.7500\n",
      "Epoch 11/50\n",
      "5/5 [==============================] - 0s 11ms/step - loss: 0.6423 - accuracy: 0.7688 - val_loss: 0.5669 - val_accuracy: 0.8250\n",
      "Epoch 12/50\n",
      "5/5 [==============================] - 0s 25ms/step - loss: 0.6160 - accuracy: 0.7875 - val_loss: 0.6881 - val_accuracy: 0.7750\n",
      "Epoch 13/50\n",
      "5/5 [==============================] - 0s 11ms/step - loss: 0.6050 - accuracy: 0.7937 - val_loss: 0.6449 - val_accuracy: 0.7250\n",
      "Epoch 14/50\n",
      "5/5 [==============================] - 0s 12ms/step - loss: 0.5908 - accuracy: 0.7812 - val_loss: 0.5810 - val_accuracy: 0.7750\n",
      "Epoch 15/50\n",
      "5/5 [==============================] - 0s 12ms/step - loss: 0.5488 - accuracy: 0.7937 - val_loss: 0.6280 - val_accuracy: 0.7500\n",
      "Epoch 16/50\n",
      "5/5 [==============================] - 0s 12ms/step - loss: 0.5404 - accuracy: 0.7937 - val_loss: 0.6609 - val_accuracy: 0.7000\n",
      "Epoch 17/50\n",
      "5/5 [==============================] - 0s 12ms/step - loss: 0.5310 - accuracy: 0.8062 - val_loss: 0.5801 - val_accuracy: 0.7750\n",
      "Epoch 18/50\n",
      "5/5 [==============================] - 0s 12ms/step - loss: 0.5069 - accuracy: 0.7875 - val_loss: 0.5591 - val_accuracy: 0.8000\n",
      "Epoch 19/50\n",
      "5/5 [==============================] - 0s 44ms/step - loss: 0.5018 - accuracy: 0.7812 - val_loss: 0.5842 - val_accuracy: 0.7750\n",
      "Epoch 20/50\n",
      "5/5 [==============================] - 0s 23ms/step - loss: 0.5065 - accuracy: 0.8250 - val_loss: 0.5289 - val_accuracy: 0.8250\n",
      "Epoch 21/50\n",
      "5/5 [==============================] - 0s 12ms/step - loss: 0.4914 - accuracy: 0.7937 - val_loss: 0.5879 - val_accuracy: 0.7750\n",
      "Epoch 22/50\n",
      "5/5 [==============================] - 0s 12ms/step - loss: 0.5041 - accuracy: 0.8062 - val_loss: 0.7366 - val_accuracy: 0.7500\n",
      "Epoch 23/50\n",
      "5/5 [==============================] - 0s 11ms/step - loss: 0.4854 - accuracy: 0.8188 - val_loss: 0.6612 - val_accuracy: 0.7000\n",
      "Epoch 24/50\n",
      "5/5 [==============================] - 0s 11ms/step - loss: 0.4252 - accuracy: 0.8625 - val_loss: 0.5093 - val_accuracy: 0.7750\n",
      "Epoch 25/50\n",
      "5/5 [==============================] - 0s 11ms/step - loss: 0.3899 - accuracy: 0.8687 - val_loss: 0.5629 - val_accuracy: 0.8000\n",
      "Epoch 26/50\n",
      "5/5 [==============================] - 0s 11ms/step - loss: 0.4058 - accuracy: 0.8875 - val_loss: 0.6488 - val_accuracy: 0.7750\n",
      "Epoch 27/50\n",
      "5/5 [==============================] - 0s 13ms/step - loss: 0.4246 - accuracy: 0.8375 - val_loss: 0.5555 - val_accuracy: 0.7750\n",
      "Epoch 28/50\n",
      "5/5 [==============================] - 0s 13ms/step - loss: 0.3982 - accuracy: 0.8250 - val_loss: 0.5640 - val_accuracy: 0.8000\n",
      "Epoch 29/50\n",
      "5/5 [==============================] - 0s 11ms/step - loss: 0.4055 - accuracy: 0.8500 - val_loss: 0.5497 - val_accuracy: 0.7500\n",
      "Epoch 30/50\n",
      "5/5 [==============================] - 0s 12ms/step - loss: 0.3736 - accuracy: 0.8562 - val_loss: 0.5452 - val_accuracy: 0.7500\n",
      "Epoch 31/50\n",
      "5/5 [==============================] - 0s 11ms/step - loss: 0.3300 - accuracy: 0.9000 - val_loss: 0.5801 - val_accuracy: 0.8000\n",
      "Epoch 32/50\n",
      "5/5 [==============================] - 0s 12ms/step - loss: 0.3364 - accuracy: 0.8750 - val_loss: 0.6631 - val_accuracy: 0.7750\n",
      "Epoch 33/50\n",
      "5/5 [==============================] - 0s 11ms/step - loss: 0.3492 - accuracy: 0.9062 - val_loss: 0.5724 - val_accuracy: 0.8000\n",
      "Epoch 34/50\n",
      "5/5 [==============================] - 0s 11ms/step - loss: 0.2625 - accuracy: 0.9000 - val_loss: 0.4984 - val_accuracy: 0.8250\n",
      "Epoch 35/50\n",
      "5/5 [==============================] - 0s 12ms/step - loss: 0.2858 - accuracy: 0.8813 - val_loss: 0.5424 - val_accuracy: 0.7750\n",
      "Epoch 36/50\n",
      "5/5 [==============================] - 0s 12ms/step - loss: 0.3025 - accuracy: 0.8875 - val_loss: 0.5502 - val_accuracy: 0.8250\n",
      "Epoch 37/50\n",
      "5/5 [==============================] - 0s 11ms/step - loss: 0.2442 - accuracy: 0.9187 - val_loss: 0.5695 - val_accuracy: 0.8250\n",
      "Epoch 38/50\n",
      "5/5 [==============================] - 0s 11ms/step - loss: 0.1707 - accuracy: 0.9500 - val_loss: 0.5136 - val_accuracy: 0.8000\n",
      "Epoch 39/50\n",
      "5/5 [==============================] - 0s 12ms/step - loss: 0.2836 - accuracy: 0.8938 - val_loss: 0.4634 - val_accuracy: 0.7500\n",
      "Epoch 40/50\n",
      "5/5 [==============================] - 0s 12ms/step - loss: 0.2416 - accuracy: 0.9125 - val_loss: 0.5368 - val_accuracy: 0.8000\n",
      "Epoch 41/50\n",
      "5/5 [==============================] - 0s 48ms/step - loss: 0.2250 - accuracy: 0.9250 - val_loss: 0.5648 - val_accuracy: 0.8000\n",
      "Epoch 42/50\n",
      "5/5 [==============================] - 0s 11ms/step - loss: 0.2746 - accuracy: 0.9062 - val_loss: 0.4796 - val_accuracy: 0.8500\n",
      "Epoch 43/50\n",
      "5/5 [==============================] - 0s 12ms/step - loss: 0.2515 - accuracy: 0.9062 - val_loss: 0.3634 - val_accuracy: 0.8250\n",
      "Epoch 44/50\n",
      "5/5 [==============================] - 0s 11ms/step - loss: 0.1998 - accuracy: 0.9312 - val_loss: 0.6544 - val_accuracy: 0.7500\n",
      "Epoch 45/50\n",
      "5/5 [==============================] - 0s 11ms/step - loss: 0.2195 - accuracy: 0.9000 - val_loss: 0.5653 - val_accuracy: 0.8000\n",
      "Epoch 46/50\n",
      "5/5 [==============================] - 0s 11ms/step - loss: 0.1741 - accuracy: 0.9375 - val_loss: 0.5074 - val_accuracy: 0.7750\n",
      "Epoch 47/50\n",
      "5/5 [==============================] - 0s 12ms/step - loss: 0.1529 - accuracy: 0.9563 - val_loss: 0.6383 - val_accuracy: 0.8250\n",
      "Epoch 48/50\n",
      "5/5 [==============================] - 0s 11ms/step - loss: 0.1453 - accuracy: 0.9500 - val_loss: 0.6712 - val_accuracy: 0.7750\n",
      "Epoch 49/50\n",
      "5/5 [==============================] - 0s 12ms/step - loss: 0.1425 - accuracy: 0.9438 - val_loss: 0.5296 - val_accuracy: 0.8000\n",
      "Epoch 50/50\n",
      "5/5 [==============================] - 0s 11ms/step - loss: 0.1345 - accuracy: 0.9500 - val_loss: 0.5278 - val_accuracy: 0.8250\n",
      "2/2 [==============================] - 0s 3ms/step\n",
      "2/2 [==============================] - 0s 4ms/step - loss: 0.5278 - accuracy: 0.8250\n",
      "Test Loss: 0.5278\n",
      "Test Accuracy: 0.8250\n"
     ]
    }
   ],
   "source": [
    "# MLP K-best 1000\n",
    "MLP_Kbest_300 = runMLP(X_Kbest)"
   ]
  },
  {
   "cell_type": "code",
   "execution_count": 280,
   "id": "5d071858-f1f9-4a73-bd2d-c49b1f576c53",
   "metadata": {},
   "outputs": [
    {
     "name": "stdout",
     "output_type": "stream",
     "text": [
      "Precision:  0.8466666666666667\n",
      "F1:  0.8195383986928105\n",
      "Recall:  0.825\n",
      "AUC:  0.9542674079891367\n"
     ]
    }
   ],
   "source": [
    "X_train, X_test, Y_train, Y_test = train_test_split(X, Y, test_size=0.2, random_state=42)\n",
    "Y_pred = MLP_Kbest_300[1]\n",
    "Y_prob = MLP_Kbest_300[2]\n",
    "print(\"Precision: \", precision_score(Y_test, Y_pred, average='weighted'))\n",
    "print(\"F1: \", f1_score(Y_test, Y_pred, average='weighted'))\n",
    "print(\"Recall: \", recall_score(Y_test, Y_pred, average='weighted'))\n",
    "print(\"AUC: \", roc_auc_score(Y_test, Y_prob, multi_class=\"ovr\"))"
   ]
  },
  {
   "cell_type": "markdown",
   "id": "4c433b79-65fe-4c11-a078-809f332dfad9",
   "metadata": {},
   "source": [
    "### Plotting confusion matrix."
   ]
  },
  {
   "cell_type": "code",
   "execution_count": 281,
   "id": "d32aac5b-80fc-44bf-a4e3-60dca5c7205f",
   "metadata": {},
   "outputs": [],
   "source": [
    "X_train, X_test, Y_train, Y_test = train_test_split(X, Y, test_size=0.2, random_state=42)\n",
    "\n",
    "confusion_matrix = sklearn.metrics.confusion_matrix(y_true=Y_test, y_pred=MLP_Kbest_300[1], labels=np.unique(Y_test).tolist())\n",
    "disp = ConfusionMatrixDisplay(confusion_matrix=confusion_matrix,\n",
    "                               display_labels=np.unique(Y_test).tolist())"
   ]
  },
  {
   "cell_type": "code",
   "execution_count": 245,
   "id": "b2de309d-6129-4040-85dd-ff138912c10d",
   "metadata": {},
   "outputs": [
    {
     "data": {
      "text/plain": [
       "array(['B3', 'M', 'AB', 'B2', 'AB', 'B3', 'B2', 'AB', 'A', 'AB', 'B2',\n",
       "       'AB', 'AB', 'B2', 'B2', 'AB', 'B1', 'B2', 'B2', 'B2', 'B1', 'M',\n",
       "       'B2', 'B2', 'B2', 'B1', 'B2', 'B2', 'B1', 'TC', 'M', 'M', 'B1',\n",
       "       'B2', 'B2', 'B3', 'A', 'AB', 'AB', 'B2'], dtype=object)"
      ]
     },
     "execution_count": 245,
     "metadata": {},
     "output_type": "execute_result"
    }
   ],
   "source": [
    "Y_test"
   ]
  },
  {
   "cell_type": "code",
   "execution_count": 246,
   "id": "94d867d8-5ca1-44a8-b6e2-7a2e2dae6493",
   "metadata": {},
   "outputs": [
    {
     "data": {
      "text/plain": [
       "array(['B3', 'M', 'AB', 'B2', 'A', 'M', 'B2', 'AB', 'A', 'AB', 'B2', 'AB',\n",
       "       'AB', 'B2', 'B2', 'AB', 'B1', 'B2', 'B2', 'B2', 'B2', 'M', 'B2',\n",
       "       'B2', 'B2', 'B2', 'B2', 'B2', 'B1', 'TC', 'M', 'M', 'B2', 'B1',\n",
       "       'B2', 'B3', 'A', 'AB', 'A', 'B2'], dtype=object)"
      ]
     },
     "execution_count": 246,
     "metadata": {},
     "output_type": "execute_result"
    }
   ],
   "source": [
    "MLP_Kbest_300[1]"
   ]
  },
  {
   "cell_type": "code",
   "execution_count": 282,
   "id": "3004376e-3537-47e6-8e08-b7f913c8138e",
   "metadata": {},
   "outputs": [
    {
     "data": {
      "image/png": "[encoded data removed]",
      "text/plain": [
       "<Figure size 640x480 with 2 Axes>"
      ]
     },
     "metadata": {},
     "output_type": "display_data"
    }
   ],
   "source": [
    "disp.plot()\n",
    "plt.show()"
   ]
  },
  {
   "cell_type": "code",
   "execution_count": null,
   "id": "41e46ba4-5b09-4bac-846d-5f4c4e0d4abb",
   "metadata": {},
   "outputs": [],
   "source": []
  },
  {
   "cell_type": "code",
   "execution_count": null,
   "id": "86bd7d20-6f7d-4683-9a4b-517f5204a05d",
   "metadata": {},
   "outputs": [],
   "source": []
  },
  {
   "cell_type": "code",
   "execution_count": null,
   "id": "22cc03c8-6845-4333-b4b7-560d468ea420",
   "metadata": {},
   "outputs": [],
   "source": []
  },
  {
   "cell_type": "code",
   "execution_count": 117,
   "id": "cd00a084-45c2-45af-9c59-49c03c17af9e",
   "metadata": {},
   "outputs": [
    {
     "name": "stderr",
     "output_type": "stream",
     "text": [
      "/opt/anaconda3/envs/MED264FinalProject/lib/python3.10/site-packages/sklearn/metrics/_classification.py:1531: UndefinedMetricWarning: Precision is ill-defined and being set to 0.0 in labels with no predicted samples. Use `zero_division` parameter to control this behavior.\n",
      "  _warn_prf(average, modifier, f\"{metric.capitalize()} is\", len(result))\n",
      "/opt/anaconda3/envs/MED264FinalProject/lib/python3.10/site-packages/sklearn/metrics/_classification.py:1531: UndefinedMetricWarning: Precision is ill-defined and being set to 0.0 in labels with no predicted samples. Use `zero_division` parameter to control this behavior.\n",
      "  _warn_prf(average, modifier, f\"{metric.capitalize()} is\", len(result))\n",
      "/opt/anaconda3/envs/MED264FinalProject/lib/python3.10/site-packages/sklearn/metrics/_classification.py:1531: UndefinedMetricWarning: Precision is ill-defined and being set to 0.0 in labels with no predicted samples. Use `zero_division` parameter to control this behavior.\n",
      "  _warn_prf(average, modifier, f\"{metric.capitalize()} is\", len(result))\n",
      "/opt/anaconda3/envs/MED264FinalProject/lib/python3.10/site-packages/sklearn/metrics/_classification.py:1531: UndefinedMetricWarning: Precision is ill-defined and being set to 0.0 in labels with no predicted samples. Use `zero_division` parameter to control this behavior.\n",
      "  _warn_prf(average, modifier, f\"{metric.capitalize()} is\", len(result))\n",
      "/opt/anaconda3/envs/MED264FinalProject/lib/python3.10/site-packages/sklearn/metrics/_classification.py:1531: UndefinedMetricWarning: Precision is ill-defined and being set to 0.0 in labels with no predicted samples. Use `zero_division` parameter to control this behavior.\n",
      "  _warn_prf(average, modifier, f\"{metric.capitalize()} is\", len(result))\n",
      "/opt/anaconda3/envs/MED264FinalProject/lib/python3.10/site-packages/sklearn/metrics/_classification.py:1531: UndefinedMetricWarning: Precision is ill-defined and being set to 0.0 in labels with no predicted samples. Use `zero_division` parameter to control this behavior.\n",
      "  _warn_prf(average, modifier, f\"{metric.capitalize()} is\", len(result))\n",
      "/opt/anaconda3/envs/MED264FinalProject/lib/python3.10/site-packages/sklearn/metrics/_classification.py:1531: UndefinedMetricWarning: Precision is ill-defined and being set to 0.0 in labels with no predicted samples. Use `zero_division` parameter to control this behavior.\n",
      "  _warn_prf(average, modifier, f\"{metric.capitalize()} is\", len(result))\n",
      "/opt/anaconda3/envs/MED264FinalProject/lib/python3.10/site-packages/sklearn/metrics/_classification.py:1531: UndefinedMetricWarning: Precision is ill-defined and being set to 0.0 in labels with no predicted samples. Use `zero_division` parameter to control this behavior.\n",
      "  _warn_prf(average, modifier, f\"{metric.capitalize()} is\", len(result))\n",
      "/opt/anaconda3/envs/MED264FinalProject/lib/python3.10/site-packages/sklearn/metrics/_classification.py:1531: UndefinedMetricWarning: Precision is ill-defined and being set to 0.0 in labels with no predicted samples. Use `zero_division` parameter to control this behavior.\n",
      "  _warn_prf(average, modifier, f\"{metric.capitalize()} is\", len(result))\n",
      "/opt/anaconda3/envs/MED264FinalProject/lib/python3.10/site-packages/sklearn/metrics/_classification.py:1531: UndefinedMetricWarning: Precision is ill-defined and being set to 0.0 in labels with no predicted samples. Use `zero_division` parameter to control this behavior.\n",
      "  _warn_prf(average, modifier, f\"{metric.capitalize()} is\", len(result))\n",
      "/opt/anaconda3/envs/MED264FinalProject/lib/python3.10/site-packages/numpy/core/fromnumeric.py:3432: RuntimeWarning: Mean of empty slice.\n",
      "  return _methods._mean(a, axis=axis, dtype=dtype,\n",
      "/opt/anaconda3/envs/MED264FinalProject/lib/python3.10/site-packages/numpy/core/_methods.py:190: RuntimeWarning: invalid value encountered in double_scalars\n",
      "  ret = ret.dtype.type(ret / rcount)\n"
     ]
    },
    {
     "name": "stdout",
     "output_type": "stream",
     "text": [
      "Mean Train Accuracy: 0.28375000000000006\n",
      "Mean Train Precision: 0.11254819787131107\n",
      "Mean Train F1 Score: 0.1326817504588042\n",
      "Mean Train Recall: 0.28375000000000006\n",
      "\n",
      "Mean Test Accuracy: 0.27999999999999997\n",
      "Mean Test Precision: 0.08601282051282051\n",
      "Mean Test F1 Score: 0.12576862745098039\n",
      "Mean Test Recall: 0.27999999999999997\n",
      "Mean Test AUC: 0.6047640084585897\n"
     ]
    },
    {
     "name": "stderr",
     "output_type": "stream",
     "text": [
      "/opt/anaconda3/envs/MED264FinalProject/lib/python3.10/site-packages/sklearn/metrics/_classification.py:1531: UndefinedMetricWarning: Precision is ill-defined and being set to 0.0 in labels with no predicted samples. Use `zero_division` parameter to control this behavior.\n",
      "  _warn_prf(average, modifier, f\"{metric.capitalize()} is\", len(result))\n",
      "/opt/anaconda3/envs/MED264FinalProject/lib/python3.10/site-packages/sklearn/metrics/_classification.py:1531: UndefinedMetricWarning: Precision is ill-defined and being set to 0.0 in labels with no predicted samples. Use `zero_division` parameter to control this behavior.\n",
      "  _warn_prf(average, modifier, f\"{metric.capitalize()} is\", len(result))\n",
      "/opt/anaconda3/envs/MED264FinalProject/lib/python3.10/site-packages/sklearn/metrics/_classification.py:1531: UndefinedMetricWarning: Precision is ill-defined and being set to 0.0 in labels with no predicted samples. Use `zero_division` parameter to control this behavior.\n",
      "  _warn_prf(average, modifier, f\"{metric.capitalize()} is\", len(result))\n",
      "/opt/anaconda3/envs/MED264FinalProject/lib/python3.10/site-packages/numpy/core/fromnumeric.py:3432: RuntimeWarning: Mean of empty slice.\n",
      "  return _methods._mean(a, axis=axis, dtype=dtype,\n",
      "/opt/anaconda3/envs/MED264FinalProject/lib/python3.10/site-packages/numpy/core/_methods.py:190: RuntimeWarning: invalid value encountered in double_scalars\n",
      "  ret = ret.dtype.type(ret / rcount)\n"
     ]
    },
    {
     "name": "stdout",
     "output_type": "stream",
     "text": [
      "Mean Train Accuracy: 0.82\n",
      "Mean Train Precision: 0.8147413748982807\n",
      "Mean Train F1 Score: 0.8003477699068057\n",
      "Mean Train Recall: 0.82\n",
      "\n",
      "Mean Test Accuracy: 0.7550000000000001\n",
      "Mean Test Precision: 0.7514535256410256\n",
      "Mean Test F1 Score: 0.7316624281727258\n",
      "Mean Test Recall: 0.7550000000000001\n",
      "Mean Test AUC: 0.9525112781853773\n"
     ]
    },
    {
     "name": "stderr",
     "output_type": "stream",
     "text": [
      "/opt/anaconda3/envs/MED264FinalProject/lib/python3.10/site-packages/sklearn/metrics/_classification.py:1531: UndefinedMetricWarning: Precision is ill-defined and being set to 0.0 in labels with no predicted samples. Use `zero_division` parameter to control this behavior.\n",
      "  _warn_prf(average, modifier, f\"{metric.capitalize()} is\", len(result))\n",
      "/opt/anaconda3/envs/MED264FinalProject/lib/python3.10/site-packages/numpy/core/fromnumeric.py:3432: RuntimeWarning: Mean of empty slice.\n",
      "  return _methods._mean(a, axis=axis, dtype=dtype,\n",
      "/opt/anaconda3/envs/MED264FinalProject/lib/python3.10/site-packages/numpy/core/_methods.py:190: RuntimeWarning: invalid value encountered in double_scalars\n",
      "  ret = ret.dtype.type(ret / rcount)\n"
     ]
    },
    {
     "name": "stdout",
     "output_type": "stream",
     "text": [
      "Mean Train Accuracy: 0.9012500000000001\n",
      "Mean Train Precision: 0.9073063051484128\n",
      "Mean Train F1 Score: 0.9006634624269418\n",
      "Mean Train Recall: 0.9012500000000001\n",
      "\n",
      "Mean Test Accuracy: 0.745\n",
      "Mean Test Precision: 0.7530302197802198\n",
      "Mean Test F1 Score: 0.7362212662750419\n",
      "Mean Test Recall: 0.745\n",
      "Mean Test AUC: 0.9494693138552355\n"
     ]
    },
    {
     "name": "stderr",
     "output_type": "stream",
     "text": [
      "/opt/anaconda3/envs/MED264FinalProject/lib/python3.10/site-packages/sklearn/metrics/_classification.py:1531: UndefinedMetricWarning: Precision is ill-defined and being set to 0.0 in labels with no predicted samples. Use `zero_division` parameter to control this behavior.\n",
      "  _warn_prf(average, modifier, f\"{metric.capitalize()} is\", len(result))\n",
      "/opt/anaconda3/envs/MED264FinalProject/lib/python3.10/site-packages/numpy/core/fromnumeric.py:3432: RuntimeWarning: Mean of empty slice.\n",
      "  return _methods._mean(a, axis=axis, dtype=dtype,\n",
      "/opt/anaconda3/envs/MED264FinalProject/lib/python3.10/site-packages/numpy/core/_methods.py:190: RuntimeWarning: invalid value encountered in double_scalars\n",
      "  ret = ret.dtype.type(ret / rcount)\n"
     ]
    },
    {
     "name": "stdout",
     "output_type": "stream",
     "text": [
      "Mean Train Accuracy: 0.9275\n",
      "Mean Train Precision: 0.9312367907904472\n",
      "Mean Train F1 Score: 0.9277682001206502\n",
      "Mean Train Recall: 0.9275\n",
      "\n",
      "Mean Test Accuracy: 0.77\n",
      "Mean Test Precision: 0.7798333333333334\n",
      "Mean Test F1 Score: 0.7648514223508502\n",
      "Mean Test Recall: 0.77\n",
      "Mean Test AUC: 0.9530543251988677\n"
     ]
    },
    {
     "name": "stderr",
     "output_type": "stream",
     "text": [
      "/opt/anaconda3/envs/MED264FinalProject/lib/python3.10/site-packages/sklearn/metrics/_classification.py:1531: UndefinedMetricWarning: Precision is ill-defined and being set to 0.0 in labels with no predicted samples. Use `zero_division` parameter to control this behavior.\n",
      "  _warn_prf(average, modifier, f\"{metric.capitalize()} is\", len(result))\n",
      "/opt/anaconda3/envs/MED264FinalProject/lib/python3.10/site-packages/numpy/core/fromnumeric.py:3432: RuntimeWarning: Mean of empty slice.\n",
      "  return _methods._mean(a, axis=axis, dtype=dtype,\n",
      "/opt/anaconda3/envs/MED264FinalProject/lib/python3.10/site-packages/numpy/core/_methods.py:190: RuntimeWarning: invalid value encountered in double_scalars\n",
      "  ret = ret.dtype.type(ret / rcount)\n"
     ]
    },
    {
     "name": "stdout",
     "output_type": "stream",
     "text": [
      "Mean Train Accuracy: 0.95375\n",
      "Mean Train Precision: 0.9555626337418148\n",
      "Mean Train F1 Score: 0.9538619640468505\n",
      "Mean Train Recall: 0.95375\n",
      "\n",
      "Mean Test Accuracy: 0.755\n",
      "Mean Test Precision: 0.7585143467643467\n",
      "Mean Test F1 Score: 0.7470430242272348\n",
      "Mean Test Recall: 0.755\n",
      "Mean Test AUC: 0.949995421595629\n"
     ]
    },
    {
     "name": "stderr",
     "output_type": "stream",
     "text": [
      "/opt/anaconda3/envs/MED264FinalProject/lib/python3.10/site-packages/sklearn/metrics/_classification.py:1531: UndefinedMetricWarning: Precision is ill-defined and being set to 0.0 in labels with no predicted samples. Use `zero_division` parameter to control this behavior.\n",
      "  _warn_prf(average, modifier, f\"{metric.capitalize()} is\", len(result))\n",
      "/opt/anaconda3/envs/MED264FinalProject/lib/python3.10/site-packages/numpy/core/fromnumeric.py:3432: RuntimeWarning: Mean of empty slice.\n",
      "  return _methods._mean(a, axis=axis, dtype=dtype,\n",
      "/opt/anaconda3/envs/MED264FinalProject/lib/python3.10/site-packages/numpy/core/_methods.py:190: RuntimeWarning: invalid value encountered in double_scalars\n",
      "  ret = ret.dtype.type(ret / rcount)\n"
     ]
    },
    {
     "name": "stdout",
     "output_type": "stream",
     "text": [
      "Mean Train Accuracy: 0.9737499999999999\n",
      "Mean Train Precision: 0.9748251649100442\n",
      "Mean Train F1 Score: 0.9738460147429899\n",
      "Mean Train Recall: 0.9737499999999999\n",
      "\n",
      "Mean Test Accuracy: 0.75\n",
      "Mean Test Precision: 0.7548237179487179\n",
      "Mean Test F1 Score: 0.7429542763364274\n",
      "Mean Test Recall: 0.75\n",
      "Mean Test AUC: 0.951229008775029\n"
     ]
    },
    {
     "name": "stderr",
     "output_type": "stream",
     "text": [
      "/opt/anaconda3/envs/MED264FinalProject/lib/python3.10/site-packages/sklearn/metrics/_classification.py:1531: UndefinedMetricWarning: Precision is ill-defined and being set to 0.0 in labels with no predicted samples. Use `zero_division` parameter to control this behavior.\n",
      "  _warn_prf(average, modifier, f\"{metric.capitalize()} is\", len(result))\n",
      "/opt/anaconda3/envs/MED264FinalProject/lib/python3.10/site-packages/numpy/core/fromnumeric.py:3432: RuntimeWarning: Mean of empty slice.\n",
      "  return _methods._mean(a, axis=axis, dtype=dtype,\n",
      "/opt/anaconda3/envs/MED264FinalProject/lib/python3.10/site-packages/numpy/core/_methods.py:190: RuntimeWarning: invalid value encountered in double_scalars\n",
      "  ret = ret.dtype.type(ret / rcount)\n"
     ]
    },
    {
     "name": "stdout",
     "output_type": "stream",
     "text": [
      "Mean Train Accuracy: 0.98125\n",
      "Mean Train Precision: 0.9820891280710665\n",
      "Mean Train F1 Score: 0.9812920098157021\n",
      "Mean Train Recall: 0.98125\n",
      "\n",
      "Mean Test Accuracy: 0.75\n",
      "Mean Test Precision: 0.7546115689865689\n",
      "Mean Test F1 Score: 0.7424692710035959\n",
      "Mean Test Recall: 0.75\n",
      "Mean Test AUC: 0.9498310473819936\n"
     ]
    },
    {
     "name": "stderr",
     "output_type": "stream",
     "text": [
      "/opt/anaconda3/envs/MED264FinalProject/lib/python3.10/site-packages/sklearn/metrics/_classification.py:1531: UndefinedMetricWarning: Precision is ill-defined and being set to 0.0 in labels with no predicted samples. Use `zero_division` parameter to control this behavior.\n",
      "  _warn_prf(average, modifier, f\"{metric.capitalize()} is\", len(result))\n",
      "/opt/anaconda3/envs/MED264FinalProject/lib/python3.10/site-packages/numpy/core/fromnumeric.py:3432: RuntimeWarning: Mean of empty slice.\n",
      "  return _methods._mean(a, axis=axis, dtype=dtype,\n",
      "/opt/anaconda3/envs/MED264FinalProject/lib/python3.10/site-packages/numpy/core/_methods.py:190: RuntimeWarning: invalid value encountered in double_scalars\n",
      "  ret = ret.dtype.type(ret / rcount)\n"
     ]
    },
    {
     "name": "stdout",
     "output_type": "stream",
     "text": [
      "Mean Train Accuracy: 0.9837499999999999\n",
      "Mean Train Precision: 0.9842950104240076\n",
      "Mean Train F1 Score: 0.9837581754268943\n",
      "Mean Train Recall: 0.9837499999999999\n",
      "\n",
      "Mean Test Accuracy: 0.74\n",
      "Mean Test Precision: 0.7522083333333334\n",
      "Mean Test F1 Score: 0.733226892990051\n",
      "Mean Test Recall: 0.74\n",
      "Mean Test AUC: 0.9496542286017269\n"
     ]
    },
    {
     "name": "stderr",
     "output_type": "stream",
     "text": [
      "/opt/anaconda3/envs/MED264FinalProject/lib/python3.10/site-packages/sklearn/metrics/_classification.py:1531: UndefinedMetricWarning: Precision is ill-defined and being set to 0.0 in labels with no predicted samples. Use `zero_division` parameter to control this behavior.\n",
      "  _warn_prf(average, modifier, f\"{metric.capitalize()} is\", len(result))\n",
      "/opt/anaconda3/envs/MED264FinalProject/lib/python3.10/site-packages/numpy/core/fromnumeric.py:3432: RuntimeWarning: Mean of empty slice.\n",
      "  return _methods._mean(a, axis=axis, dtype=dtype,\n",
      "/opt/anaconda3/envs/MED264FinalProject/lib/python3.10/site-packages/numpy/core/_methods.py:190: RuntimeWarning: invalid value encountered in double_scalars\n",
      "  ret = ret.dtype.type(ret / rcount)\n"
     ]
    },
    {
     "name": "stdout",
     "output_type": "stream",
     "text": [
      "Mean Train Accuracy: 0.99125\n",
      "Mean Train Precision: 0.9915656673610249\n",
      "Mean Train F1 Score: 0.9912728311197914\n",
      "Mean Train Recall: 0.99125\n",
      "\n",
      "Mean Test Accuracy: 0.7549999999999999\n",
      "Mean Test Precision: 0.7608161421911422\n",
      "Mean Test F1 Score: 0.7478879444989286\n",
      "Mean Test Recall: 0.7549999999999999\n",
      "Mean Test AUC: 0.9512766113965233\n",
      "Mean Train Accuracy: 0.9974999999999999\n",
      "Mean Train Precision: 0.9975568181818183\n",
      "Mean Train F1 Score: 0.9974999999999999\n",
      "Mean Train Recall: 0.9974999999999999\n",
      "\n",
      "Mean Test Accuracy: 0.7549999999999999\n",
      "Mean Test Precision: 0.7598338467088467\n",
      "Mean Test F1 Score: 0.7474889545999386\n",
      "Mean Test Recall: 0.7549999999999999\n",
      "Mean Test AUC: 0.9509670391731581\n",
      "[0.27999999999999997, 0.7550000000000001, 0.745, 0.77, 0.755, 0.75, 0.75, 0.74, 0.7549999999999999, 0.7549999999999999]\n"
     ]
    },
    {
     "name": "stderr",
     "output_type": "stream",
     "text": [
      "/opt/anaconda3/envs/MED264FinalProject/lib/python3.10/site-packages/sklearn/metrics/_classification.py:1531: UndefinedMetricWarning: Precision is ill-defined and being set to 0.0 in labels with no predicted samples. Use `zero_division` parameter to control this behavior.\n",
      "  _warn_prf(average, modifier, f\"{metric.capitalize()} is\", len(result))\n",
      "/opt/anaconda3/envs/MED264FinalProject/lib/python3.10/site-packages/numpy/core/fromnumeric.py:3432: RuntimeWarning: Mean of empty slice.\n",
      "  return _methods._mean(a, axis=axis, dtype=dtype,\n",
      "/opt/anaconda3/envs/MED264FinalProject/lib/python3.10/site-packages/numpy/core/_methods.py:190: RuntimeWarning: invalid value encountered in double_scalars\n",
      "  ret = ret.dtype.type(ret / rcount)\n"
     ]
    }
   ],
   "source": [
    "k = range(0,1000,100)\n",
    "test_accuracies = []\n",
    "for i in k:\n",
    "    X_Kselected = SelectKBest(k=i+1).fit_transform(X, Y)\n",
    "    test_accuracy = runSVC(X_Kselected,Y)\n",
    "    test_accuracies.append(test_accuracy)\n",
    "print(test_accuracies)"
   ]
  },
  {
   "cell_type": "code",
   "execution_count": 118,
   "id": "fafb4443-2ce6-452c-8904-08f0e40d4c09",
   "metadata": {},
   "outputs": [
    {
     "name": "stderr",
     "output_type": "stream",
     "text": [
      "/var/folders/bb/sr6jv42x3zl3mz0gpq05mhwr0000gn/T/ipykernel_19246/2994462112.py:4: UserWarning: No artists with labels found to put in legend.  Note that artists whose label start with an underscore are ignored when legend() is called with no argument.\n",
      "  plt.legend()\n"
     ]
    },
    {
     "data": {
      "image/png": "[encoded data removed]",
      "text/plain": [
       "<Figure size 640x480 with 1 Axes>"
      ]
     },
     "metadata": {},
     "output_type": "display_data"
    }
   ],
   "source": [
    "plt.plot(k, test_accuracies)\n",
    "plt.xlabel('K')\n",
    "plt.ylabel('Test Accuracy')\n",
    "plt.legend()\n",
    "plt.title('Test Accuracy v. K')\n",
    "plt.show()"
   ]
  }
 ],
 "metadata": {
  "kernelspec": {
   "display_name": "Python 3 (ipykernel)",
   "language": "python",
   "name": "python3"
  },
  "language_info": {
   "codemirror_mode": {
    "name": "ipython",
    "version": 3
   },
   "file_extension": ".py",
   "mimetype": "text/x-python",
   "name": "python",
   "nbconvert_exporter": "python",
   "pygments_lexer": "ipython3",
   "version": "3.10.13"
  }
 },
 "nbformat": 4,
 "nbformat_minor": 5
}
